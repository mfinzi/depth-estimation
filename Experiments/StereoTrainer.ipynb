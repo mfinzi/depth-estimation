{
 "cells": [
  {
   "cell_type": "code",
   "execution_count": null,
   "metadata": {},
   "outputs": [],
   "source": [
    "from crf.dataloader import MBStereo14, MBStereo14Unary\n",
    "from torch.utils.data import DataLoader\n",
    "from crf.mb_stereo_crf import logits2average_depth, CRFdepthRefiner\n",
    "from crf.gaussian_matrix import FastGuidedFilter"
   ]
  },
  {
   "cell_type": "code",
   "execution_count": null,
   "metadata": {},
   "outputs": [],
   "source": [
    "import matplotlib.pyplot as plt\n",
    "import numpy as np\n",
    "import os, torch\n",
    "from oil.utils.utils import LoaderTo"
   ]
  },
  {
   "cell_type": "code",
   "execution_count": null,
   "metadata": {},
   "outputs": [],
   "source": [
    "trainset=MBStereo14Unary(downsize=8)\n",
    "device = torch.device('cuda')\n",
    "dataloaders = {'train':DataLoader(trainset,batch_size=1,shuffle=True)}\n",
    "dataloaders = {k:LoaderTo(v,device) for k,v in dataloaders.items()}"
   ]
  },
  {
   "cell_type": "code",
   "execution_count": null,
   "metadata": {},
   "outputs": [],
   "source": [
    "for mb,i in zip(dataloaders['train'],range(3)):\n",
    "    pass"
   ]
  },
  {
   "cell_type": "code",
   "execution_count": null,
   "metadata": {},
   "outputs": [],
   "source": [
    "logits,imgrgb,features = mb[0]"
   ]
  },
  {
   "cell_type": "code",
   "execution_count": null,
   "metadata": {},
   "outputs": [],
   "source": [
    "model = CRFdepthRefiner(r=20,niters=3,gamma=.1,eps=1e-3).cuda()"
   ]
  },
  {
   "cell_type": "code",
   "execution_count": null,
   "metadata": {},
   "outputs": [],
   "source": [
    "plt.rcParams.update({'font.size': 18})\n",
    "f, axarr = plt.subplots(1,3,figsize=(20,10))\n",
    "L=60\n",
    "a0 = axarr[0].imshow(logits2average_depth(mb[0][0])[0][0].cpu().data,cmap='bone',vmin=0,vmax=L)\n",
    "a1 = axarr[1].imshow(model(mb[0])[0][0].cpu().data,cmap='bone',vmin=0,vmax=L)\n",
    "a2 = axarr[2].imshow(imgrgb[0].permute(1,2,0).cpu().data.numpy())\n",
    "# a3 = axarr[3].imshow(gt_depth/4,cmap='bone',vmin=0,vmax=L)\n",
    "axarr[0].set_title(\"Unary\")\n",
    "axarr[1].set_title(\"DenseCRF\")\n",
    "#axarr[2].set_title(\"Tuned {} steps\".format(num_steps))\n",
    "#axarr[3].set_title(\"Ground Truth\")"
   ]
  },
  {
   "cell_type": "code",
   "execution_count": null,
   "metadata": {},
   "outputs": [],
   "source": [
    "plt.hist(logits2average_depth(mb[0][0])[0][0].cpu().data.numpy().reshape(-1),alpha=.5)\n",
    "plt.hist(model(mb[0]).cpu().data.numpy().reshape(-1),alpha=.5)"
   ]
  },
  {
   "cell_type": "code",
   "execution_count": null,
   "metadata": {},
   "outputs": [],
   "source": [
    "model(mb[0]).shape"
   ]
  },
  {
   "cell_type": "code",
   "execution_count": null,
   "metadata": {},
   "outputs": [],
   "source": [
    "mb[0].shape"
   ]
  },
  {
   "cell_type": "code",
   "execution_count": null,
   "metadata": {},
   "outputs": [],
   "source": [
    "%debug"
   ]
  },
  {
   "cell_type": "code",
   "execution_count": null,
   "metadata": {},
   "outputs": [],
   "source": [
    "unaryds.show()"
   ]
  },
  {
   "cell_type": "code",
   "execution_count": null,
   "metadata": {},
   "outputs": [],
   "source": [
    "def vis(img,unary_depth,target_depth,vmax=255):\n",
    "    plt.rcParams.update({'font.size': 22})\n",
    "    f, axarr = plt.subplots(1,3,figsize=(15,10))\n",
    "    a0 = axarr[0].imshow(img)\n",
    "    a1 = axarr[1].imshow(unary_depth,vmin=0,vmax=vmax)\n",
    "    a2 = axarr[2].imshow(target_depth[...,0],vmin=0,vmax=vmax)\n",
    "    axarr[0].set_title(\"Img\")\n",
    "    axarr[1].set_title(\"Unary\")\n",
    "    axarr[2].set_title(\"Ground Truth\")\n",
    "    plt.show()\n",
    "\n",
    "for img, unary, target in zip(unaryds.left_imgs,unaryds.unary_logits,unaryds.left_target):\n",
    "    #L = unary.shape[-1]\n",
    "    print(img.shape,unary.shape,target.shape)\n",
    "    #labels = np.arange(L)[None,None,:] #softmax(unary,axis=-1)*labels).sum(-1)\n",
    "    unary_depth =np.argmax(unary,axis=-1)\n",
    "    vis(img,unary_depth,target,512/unaryds.downsize)"
   ]
  },
  {
   "cell_type": "code",
   "execution_count": null,
   "metadata": {},
   "outputs": [],
   "source": []
  }
 ],
 "metadata": {
  "kernelspec": {
   "display_name": "Python 3",
   "language": "python",
   "name": "python3"
  },
  "language_info": {
   "codemirror_mode": {
    "name": "ipython",
    "version": 3
   },
   "file_extension": ".py",
   "mimetype": "text/x-python",
   "name": "python",
   "nbconvert_exporter": "python",
   "pygments_lexer": "ipython3",
   "version": "3.6.7"
  }
 },
 "nbformat": 4,
 "nbformat_minor": 2
}
