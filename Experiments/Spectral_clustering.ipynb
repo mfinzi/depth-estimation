{
 "cells": [
  {
   "cell_type": "code",
   "execution_count": null,
   "metadata": {},
   "outputs": [],
   "source": [
    "import numpy as np\n",
    "import scipy as sp\n",
    "from scipy.cluster.vq import vq, kmeans2, whiten\n",
    "import matplotlib.pyplot as plt\n",
    "\n",
    "import scipy.sparse.linalg\n",
    "import torch\n",
    "import torch.nn as nn\n",
    "%load_ext autoreload\n",
    "%load_ext line_profiler\n",
    "%autoreload 2"
   ]
  },
  {
   "cell_type": "code",
   "execution_count": null,
   "metadata": {},
   "outputs": [],
   "source": [
    "from crf.gaussian_matrix import LatticeGaussian, LatticeFilter, RbfLaplacianC,RbfLaplacian#, LSHGaussian\n",
    "from crf.utils import read_image, read_pfm, read_pgm\n",
    "from crf.features import Vgg16features\n",
    "from crf.crf import *\n",
    "from crf.depth import *"
   ]
  },
  {
   "cell_type": "code",
   "execution_count": null,
   "metadata": {},
   "outputs": [],
   "source": [
    "%cd depth-estimation/Experiments/\n",
    "img = read_image('101087.jpg')#[::2,::2]\n",
    "#img = read_image('imL.png')"
   ]
  },
  {
   "cell_type": "code",
   "execution_count": null,
   "metadata": {},
   "outputs": [],
   "source": [
    "d=5\n",
    "class ReferenceMatrix(nn.Module):\n",
    "    def __init__(self):\n",
    "        super().__init__()\n",
    "        #self.projection = nn.Linear(64,d)#0.063,.052\n",
    "        self.sigma_c = nn.Parameter(torch.tensor(.08).float())\n",
    "        self.sigma_p = nn.Parameter(torch.tensor(.03).float())\n",
    "    def forward(self,img,nn_features):\n",
    "        #projected_features = self.projection(nn_features)/10\n",
    "        scaled_rgb = torch.from_numpy(img).float()/self.sigma_c\n",
    "        h,w,_ = img.shape\n",
    "        ij = torch.from_numpy(np.mgrid[:h,:w].transpose((1,2,0))/np.sqrt(h**2+w**2)).float()\n",
    "        scaled_ij = ij/self.sigma_p\n",
    "        #print(ij.shape,scaled_rgb.shape, projected_features.shape)\n",
    "        return torch.cat([scaled_ij,scaled_rgb],dim=-1).reshape(h*w,5)#,\n",
    "    \n",
    "referenceMatrix = ReferenceMatrix()\n",
    "ref = referenceMatrix(img,None)\n",
    "L = RbfLaplacianC(ref,normalize='right')"
   ]
  },
  {
   "cell_type": "code",
   "execution_count": null,
   "metadata": {},
   "outputs": [],
   "source": [
    "L_op = sp.sparse.linalg.LinearOperator(L.shape,lambda v: (L@torch.from_numpy(v).float().unsqueeze(-1)).squeeze().data.numpy()) + 1e-4*identity_op(img.shape)"
   ]
  },
  {
   "cell_type": "code",
   "execution_count": null,
   "metadata": {},
   "outputs": [],
   "source": [
    "k=14"
   ]
  },
  {
   "cell_type": "code",
   "execution_count": null,
   "metadata": {},
   "outputs": [],
   "source": [
    "with torch.no_grad():\n",
    "    w,v = sp.sparse.linalg.eigsh(L_op,maxiter=30,which='LM',sigma=0,k=k+1,tol=1e-4)"
   ]
  },
  {
   "cell_type": "code",
   "execution_count": null,
   "metadata": {},
   "outputs": [],
   "source": [
    "plt.hist(L.D.data.view(-1).numpy())"
   ]
  },
  {
   "cell_type": "code",
   "execution_count": null,
   "metadata": {},
   "outputs": [],
   "source": [
    "plt.plot(w,marker='.')"
   ]
  },
  {
   "cell_type": "code",
   "execution_count": null,
   "metadata": {},
   "outputs": [],
   "source": [
    "kk=500#k#10\n",
    "whitened = whiten(v[:,w>0])\n",
    "centroids, labels = kmeans2(whitened, kk)\n",
    "oh_labels = np.stack([labels==i for i in range(kk)],axis=0)\n",
    "coloring = oh_labels@img.reshape(-1,3)/(oh_labels.sum(-1)[:,None]+1e-4)\n",
    "colored_labels = (oh_labels.T@coloring).reshape(img.shape)"
   ]
  },
  {
   "cell_type": "code",
   "execution_count": null,
   "metadata": {},
   "outputs": [],
   "source": [
    "plt.rcParams.update({'font.size': 22})\n",
    "f, axarr = plt.subplots(1,2,figsize=(15,10))\n",
    "a0 = axarr[0].imshow(colored_labels)\n",
    "a1 = axarr[1].imshow(img)\n",
    "axarr[0].set_title(\"Spectral Clustering\")\n",
    "axarr[1].set_title(\"Original Image\")"
   ]
  },
  {
   "cell_type": "code",
   "execution_count": null,
   "metadata": {},
   "outputs": [],
   "source": [
    "plt.rcParams.update({'font.size': 12})\n",
    "rows = int((np.sqrt(k)*3)//4)\n",
    "cols = int(k//rows)\n",
    "print(rows,cols)\n",
    "f, ax = plt.subplots(rows,cols,figsize=(15,10))\n",
    "plt.axis('off')\n",
    "for i in range(rows):\n",
    "    for j in range(cols):\n",
    "        # create subplot and append to ax\n",
    "        m = i*cols+j\n",
    "        ax[i,j].set_axis_off()\n",
    "        ax[i,j].imshow(v[:,m].reshape(img.shape[:2]),cmap='bone')\n",
    "        ax[i,j].set_title(rf\"$\\lambda_{m}={w[m]:{2}.{2}}$\")\n",
    "plt.show()"
   ]
  },
  {
   "cell_type": "code",
   "execution_count": null,
   "metadata": {},
   "outputs": [],
   "source": [
    "k"
   ]
  },
  {
   "cell_type": "code",
   "execution_count": null,
   "metadata": {},
   "outputs": [],
   "source": []
  }
 ],
 "metadata": {
  "kernelspec": {
   "display_name": "Python 3",
   "language": "python",
   "name": "python3"
  },
  "language_info": {
   "codemirror_mode": {
    "name": "ipython",
    "version": 3
   },
   "file_extension": ".py",
   "mimetype": "text/x-python",
   "name": "python",
   "nbconvert_exporter": "python",
   "pygments_lexer": "ipython3",
   "version": "3.6.7"
  }
 },
 "nbformat": 4,
 "nbformat_minor": 2
}
