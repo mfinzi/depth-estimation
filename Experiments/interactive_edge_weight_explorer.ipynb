{
 "cells": [
  {
   "cell_type": "code",
   "execution_count": 8,
   "metadata": {},
   "outputs": [
    {
     "name": "stdout",
     "output_type": "stream",
     "text": [
      "The autoreload extension is already loaded. To reload it, use:\n",
      "  %reload_ext autoreload\n"
     ]
    }
   ],
   "source": [
    "import numpy as np\n",
    "import scipy as sp\n",
    "import matplotlib.pyplot as plt\n",
    "from scipy import ndimage\n",
    "from scipy import signal\n",
    "import scipy.sparse.linalg\n",
    "import torch\n",
    "import re\n",
    "from torch.nn.functional import conv2d\n",
    "import functools\n",
    "from matplotlib.widgets import Slider, Button, RadioButtons, TextBox\n",
    "from ipywidgets import interact, interactive, fixed, interact_manual\n",
    "import ipywidgets as widgets\n",
    "from crf.utils import read_image, read_pfm, read_pgm\n",
    "from crf.features import Vgg16features\n",
    "from crf.crf import *\n",
    "from crf.depth import *\n",
    "%load_ext autoreload\n",
    "%autoreload 2"
   ]
  },
  {
   "cell_type": "code",
   "execution_count": 10,
   "metadata": {},
   "outputs": [],
   "source": [
    "img1 = read_image('imL.png')\n",
    "device = torch.device('cuda') if torch.cuda.is_available() else torch.device('cpu')\n",
    "VGG = Vgg16features()\n",
    "_ = VGG.to(device)"
   ]
  },
  {
   "cell_type": "code",
   "execution_count": 45,
   "metadata": {},
   "outputs": [
    {
     "data": {
      "application/vnd.jupyter.widget-view+json": {
       "model_id": "3ba90cf033af4f9daa4d14d5e3a17627",
       "version_major": 2,
       "version_minor": 0
      },
      "text/plain": [
       "FigureCanvasNbAgg()"
      ]
     },
     "metadata": {},
     "output_type": "display_data"
    }
   ],
   "source": [
    "%matplotlib widget\n",
    "\n",
    "\n",
    "f, axarr = plt.subplots(1,2)\n",
    "shape = (3,5)\n",
    "im1 = np.random.rand(*shape)\n",
    "ax0 = axarr[0].imshow(img1[::4,::4])  # 5 points tolerance\n",
    "ax1 = axarr[1].imshow(img1[::4,::4])\n",
    "rotate_left = np.array([[0,-1],[1,0]])\n",
    "rotate_right = np.linalg.inv(rotate_left)\n",
    "\n",
    "h,w = img1[::4,::4].shape[:2]\n",
    "position = np.mgrid[:h,:w].transpose((1,2,0))/np.sqrt(h**2+w**2)\n",
    "all_features = VGG.get_all_features(img1)\n",
    "    \n",
    "## Make sliders, and buttons\n",
    "axcolor = 'black'\n",
    "sigma1ax = plt.axes([0.25, 0.1, 0.65, 0.03], facecolor=axcolor)\n",
    "sigma2ax = plt.axes([0.25, 0.15, 0.65, 0.03], facecolor=axcolor)\n",
    "sigma3ax = plt.axes([0.25, 0.2, 0.65, 0.03], facecolor=axcolor)\n",
    "\n",
    "sigma1 = Slider(sigma1ax, r'$\\sigma_p$', 0.01, 0.3, valinit=.1)\n",
    "sigma2 = Slider(sigma2ax, r'$\\sigma_c$', 0.01, 1.0, valinit=.1)\n",
    "sigma3 = Slider(sigma3ax, r'$\\sigma_f$', 0.05, 10.0, valinit=3)\n",
    "\n",
    "rax = plt.axes([0.05, 0.10, 0.075, 0.15], facecolor='white')\n",
    "layer_selector = RadioButtons(rax, (0, 1, 2), active=0)\n",
    "axbox = plt.axes([0.05, 0.30, 0.05, 0.05])\n",
    "dim_selector = TextBox(axbox, 'd', initial='10')\n",
    "\n",
    "\n",
    "def callback(i,j):\n",
    "    if axarr[1].lines:\n",
    "        axarr[1].lines[-1].remove()\n",
    "    n,m = im1.shape[:2]\n",
    "    #ax1.set_data(img_W[i,j])\n",
    "    ax1.set_data(20*f.get_W(i,j))\n",
    "    coords = [j,i]\n",
    "    axarr[1].plot(*coords,\".r\",markersize=4)\n",
    "    \n",
    "def on_move(fig, axes,callback, event):\n",
    "    if fig.frozen: return\n",
    "    # Verify click is within the axes of interest\n",
    "    if axes[0].in_axes(event):\n",
    "        imshape = axes[0].get_images()[0]._A.shape[:2]\n",
    "        # Transform the event from display to axes coordinates\n",
    "        ax_pos = axes[0].transAxes.inverted().transform((event.x, event.y))\n",
    "        \n",
    "        i,j = (rotate_left@(ax_pos)*np.array(imshape)//1).astype(int)\n",
    "        i,j = i%imshape[0],j%imshape[1]\n",
    "        if [i,j]!=fig.last_ij:\n",
    "            callback(i,j)\n",
    "            fig.last_ij = [i,j]\n",
    "        #print(dir(axes[0].get_images()[0]))\n",
    "        #print(dir(axes[0]))\n",
    "def on_click(event):\n",
    "    if axarr[0].in_axes(event):\n",
    "        f.frozen=not f.frozen\n",
    "        if not f.frozen:\n",
    "            handler_wrapper(event)\n",
    "            \n",
    "def update_sigmas(*args):\n",
    "    s1,s2,s3 = sigma1.val,sigma2.val,sigma3.val\n",
    "    d = int(dim_selector.text)\n",
    "    ref = np.zeros((h,w,5+d))\n",
    "    ref[...,:3] = img1[::4,::4]/s2\n",
    "    ref[...,3:5] = position/s1\n",
    "    q = int(layer_selector.value_selected)\n",
    "    ref[...,5:] = f.feats/s3\n",
    "    f.get_W = lazy_W(ref)\n",
    "    callback(*f.last_ij)\n",
    "    \n",
    "def update_features(*args):\n",
    "    q = int(layer_selector.value_selected)\n",
    "    d = int(dim_selector.text)\n",
    "    projection_matrix = np.random.rand(all_features[q].shape[-1],d)\n",
    "    feats = (all_features[q]@projection_matrix)[::2**(2-q),::2**(2-q)]\n",
    "    f.feats = (feats - feats.mean((0,1)))/feats.std((0,1))\n",
    "    update_sigmas(*args)\n",
    "\n",
    "f.last_ij = [0,0]\n",
    "f.frozen = True\n",
    "update_features()\n",
    "\n",
    "## Attach sliders and buttons\n",
    "on_move_wrapper = functools.partial(on_move, f, axarr,callback)\n",
    "f.canvas.mpl_connect('motion_notify_event', on_move_wrapper)\n",
    "f.canvas.mpl_connect('button_press_event', on_click)\n",
    "\n",
    "[s.on_changed(update_sigmas) for s in [sigma1,sigma2,sigma3]]\n",
    "dim_selector.on_submit(update_features)\n",
    "layer_selector.on_clicked(update_features)\n",
    "\n",
    "plt.show()"
   ]
  },
  {
   "cell_type": "code",
   "execution_count": null,
   "metadata": {},
   "outputs": [],
   "source": []
  }
 ],
 "metadata": {
  "kernelspec": {
   "display_name": "Python 3",
   "language": "python",
   "name": "python3"
  },
  "language_info": {
   "codemirror_mode": {
    "name": "ipython",
    "version": 3
   },
   "file_extension": ".py",
   "mimetype": "text/x-python",
   "name": "python",
   "nbconvert_exporter": "python",
   "pygments_lexer": "ipython3",
   "version": "3.6.6"
  }
 },
 "nbformat": 4,
 "nbformat_minor": 2
}
