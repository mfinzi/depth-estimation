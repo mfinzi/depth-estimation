{
 "cells": [
  {
   "cell_type": "code",
   "execution_count": 1,
   "metadata": {},
   "outputs": [],
   "source": [
    "import numpy as np\n",
    "import scipy as sp\n",
    "import matplotlib.pyplot as plt\n",
    "from scipy import ndimage\n",
    "from scipy import signal\n",
    "import scipy.sparse.linalg\n",
    "import torch\n",
    "import torch.nn.functional as F\n",
    "from torch.nn.functional import conv2d\n",
    "import functools\n",
    "from matplotlib.widgets import Slider, Button, RadioButtons\n",
    "from ipywidgets import interact, interactive, fixed, interact_manual\n",
    "import ipywidgets as widgets\n",
    "%load_ext autoreload\n",
    "\n",
    "%autoreload 2"
   ]
  },
  {
   "cell_type": "code",
   "execution_count": 2,
   "metadata": {},
   "outputs": [],
   "source": [
    "from crf.gaussian_matrix import LatticeGaussian, RbfLaplacian#, LSHGaussian"
   ]
  },
  {
   "cell_type": "code",
   "execution_count": 3,
   "metadata": {},
   "outputs": [],
   "source": [
    "from crf.utils import read_image, read_pfm, read_pgm\n",
    "from crf.features import Vgg16features\n",
    "from crf.crf import *\n",
    "from crf.depth import *"
   ]
  },
  {
   "cell_type": "code",
   "execution_count": 4,
   "metadata": {},
   "outputs": [],
   "source": [
    "img1 = read_image('imL.png')#[::2,::2]\n",
    "img2 = read_image('imR.png')#[::2,::2]\n",
    "gt_depth = read_pgm('truedisp.row3.col3.pgm')\n",
    "#img1 = read_image('im0.png')[::3,::3]\n",
    "#img2 = read_image('im1.png')[::3,::3]\n",
    "#gt_depth = read_pfm('disp0.pfm')[::3,::3]\n",
    "device = torch.device('cpu')#torch.device('cuda') if torch.cuda.is_available() else torch.device('cpu')"
   ]
  },
  {
   "cell_type": "code",
   "execution_count": 5,
   "metadata": {},
   "outputs": [],
   "source": [
    "# Get random projection of VGG16 features\n",
    "VGG = Vgg16features()\n",
    "VGG.to(device)\n",
    "features = VGG.get_all_features(img1)"
   ]
  },
  {
   "cell_type": "code",
   "execution_count": 6,
   "metadata": {},
   "outputs": [],
   "source": [
    "q = 2\n",
    "d=10\n",
    "np_features = features[q]\n",
    "projection_matrix = np.random.rand(np_features.shape[-1],d)\n",
    "projected = np_features@projection_matrix\n",
    "feats = (projected - projected.mean((0,1)))/projected.std((0,1))"
   ]
  },
  {
   "cell_type": "code",
   "execution_count": 7,
   "metadata": {},
   "outputs": [],
   "source": [
    "## Hyper parameters\n",
    "ws = 9      # Disparity aggregation window size\n",
    "gamma = 3    # Charbonneir turning point\n",
    "sigma_c = .1#.15#.1#.1 # Filter stdev for color channels\n",
    "sigma_p = .1#.08#.1 # Filter stdev for position channels\n",
    "sigma_f = 10#3#10#3.46#10 # Filter stdev for feature channels\n",
    "n_iters = 5 # Number of mean field message passing iterations\n",
    "down_factor = 2"
   ]
  },
  {
   "cell_type": "code",
   "execution_count": 8,
   "metadata": {},
   "outputs": [],
   "source": [
    "# Get the unary potentials from window sweep\n",
    "disp_energy = disparity_badness(img1,img2,ws,criterion=AD)\n",
    "disps = np.argmin(disp_energy,axis=-1)\n",
    "L = disp_energy.shape[-1] # Number of possible disparities\n",
    "downsampled_out = disp_energy[::down_factor,::down_factor]\n",
    "h,w,_ = downsampled_out.shape\n",
    "n = h*w\n",
    "\n",
    "E_0 = torch.from_numpy(downsampled_out.reshape(-1,L)).float().to(device)\n",
    "P_0 = F.softmax(-E_0,dim=1)"
   ]
  },
  {
   "cell_type": "code",
   "execution_count": 9,
   "metadata": {},
   "outputs": [],
   "source": [
    "# Setup the compatibility matrix\n",
    "labels = torch.arange(L).float()\n",
    "charb = lambda a,b: charbonneir(a,b,gamma)\n",
    "Mu = compatibility_matrix(charb,labels).to(device)"
   ]
  },
  {
   "cell_type": "code",
   "execution_count": 10,
   "metadata": {},
   "outputs": [],
   "source": [
    "# Calculate W matrix with brute force\n",
    "position = np.mgrid[:h,:w].transpose((1,2,0))/np.sqrt(h**2+w**2)\n",
    "ref = np.zeros((h,w,5))\n",
    "ref[...,:3] = img1[::down_factor,::down_factor]/sigma_c\n",
    "ref[...,3:5] = position/sigma_p\n",
    "#ref[...,5:] = feats[::down_factor,::down_factor]/sigma_f\n",
    "flat_ref = torch.from_numpy(ref.reshape(n,-1).astype(np.float32))\n",
    "#W = gaussian_weights_u(flat_ref.to(device))\n",
    "# img_W = W.reshape((h,w,h,w))\n",
    "W = LatticeGaussian(flat_ref.to(device))\n",
    "#W = RbfLaplacian(flat_ref.to(device),normalize=True)\n",
    "#W2 = gaussian_weights_u(flat_ref.to(device))"
   ]
  },
  {
   "cell_type": "code",
   "execution_count": 11,
   "metadata": {},
   "outputs": [],
   "source": [
    "# with torch.no_grad():\n",
    "#     %timeit mf = mean_field_infer(E_0,W,Mu,10)"
   ]
  },
  {
   "cell_type": "code",
   "execution_count": null,
   "metadata": {},
   "outputs": [],
   "source": [
    "for i in range(1000):\n",
    "    with torch.no_grad():\n",
    "        mf = mean_field_infer(3*E_0,W,Mu,n_iters)\n",
    "#         expected_depths = mf@labels.to(device)#.max(dim=-1)[1]#@labels.to(device)\n",
    "#         crf_depth = expected_depths.reshape(h,w).cpu().numpy()\n",
    "#         baseline_depth = (P_0@labels.to(device)).reshape(h,w).cpu().numpy()"
   ]
  },
  {
   "cell_type": "code",
   "execution_count": null,
   "metadata": {},
   "outputs": [],
   "source": [
    "plt.rcParams.update({'font.size': 22})\n",
    "f, axarr = plt.subplots(1,3,figsize=(15,10))\n",
    "a0 = axarr[0].imshow(4*baseline_depth,cmap='bone',vmin=0,vmax=L)\n",
    "a1 = axarr[1].imshow(4*crf_depth,cmap='bone',vmin=0,vmax=L)\n",
    "a2 = axarr[2].imshow(gt_depth/4,cmap='bone',vmin=0,vmax=L)\n",
    "axarr[0].set_title(\"Unary\")\n",
    "axarr[1].set_title(\"DenseCRF\")\n",
    "axarr[2].set_title(\"Ground Truth\")"
   ]
  },
  {
   "cell_type": "code",
   "execution_count": null,
   "metadata": {},
   "outputs": [],
   "source": [
    "plt.imshow(img1)\n",
    "plt.show()"
   ]
  },
  {
   "cell_type": "code",
   "execution_count": null,
   "metadata": {},
   "outputs": [],
   "source": [
    "featss = VGG.get_all_features(img1)"
   ]
  },
  {
   "cell_type": "code",
   "execution_count": null,
   "metadata": {},
   "outputs": [],
   "source": [
    "for i in range(4):\n",
    "    print(featss[i].shape)"
   ]
  },
  {
   "cell_type": "code",
   "execution_count": null,
   "metadata": {},
   "outputs": [],
   "source": [
    "for d in range(4):\n",
    "    ff  =featss[d]\n",
    "    for i in range(ff.shape[-1]):\n",
    "        plt.imshow(ff[:,:,i])\n",
    "        plt.show()"
   ]
  },
  {
   "cell_type": "code",
   "execution_count": null,
   "metadata": {},
   "outputs": [],
   "source": []
  }
 ],
 "metadata": {
  "kernelspec": {
   "display_name": "Python 3",
   "language": "python",
   "name": "python3"
  },
  "language_info": {
   "codemirror_mode": {
    "name": "ipython",
    "version": 3
   },
   "file_extension": ".py",
   "mimetype": "text/x-python",
   "name": "python",
   "nbconvert_exporter": "python",
   "pygments_lexer": "ipython3",
   "version": "3.6.7"
  }
 },
 "nbformat": 4,
 "nbformat_minor": 2
}
