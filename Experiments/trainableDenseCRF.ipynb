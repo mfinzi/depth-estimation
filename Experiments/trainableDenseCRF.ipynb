{
 "cells": [
  {
   "cell_type": "code",
   "execution_count": 1,
   "metadata": {},
   "outputs": [],
   "source": [
    "import numpy as np\n",
    "import scipy as sp\n",
    "import matplotlib.pyplot as plt\n",
    "from scipy import ndimage\n",
    "from scipy import signal\n",
    "import scipy.sparse.linalg\n",
    "import torch\n",
    "import torch.nn as nn\n",
    "import torch.nn.functional as F\n",
    "from torch.nn.functional import conv2d\n",
    "import functools\n",
    "from matplotlib.widgets import Slider, Button, RadioButtons\n",
    "from ipywidgets import interact, interactive, fixed, interact_manual\n",
    "import ipywidgets as widgets\n",
    "from functools import partial\n",
    "%load_ext autoreload\n",
    "%load_ext line_profiler\n",
    "%autoreload 2"
   ]
  },
  {
   "cell_type": "code",
   "execution_count": 2,
   "metadata": {},
   "outputs": [],
   "source": [
    "from crf.gaussian_matrix import LatticeGaussian, LatticeFilter#, LSHGaussian"
   ]
  },
  {
   "cell_type": "code",
   "execution_count": 3,
   "metadata": {},
   "outputs": [],
   "source": [
    "from crf.utils import read_image, read_pfm, read_pgm\n",
    "from crf.features import Vgg16features\n",
    "from crf.crf import *\n",
    "from crf.depth import *"
   ]
  },
  {
   "cell_type": "code",
   "execution_count": 4,
   "metadata": {},
   "outputs": [],
   "source": [
    "img1 = read_image('imL.png')#[::2,::2]\n",
    "img2 = read_image('imR.png')#[::2,::2]\n",
    "gt_depth = read_pgm('truedisp.row3.col3.pgm')\n",
    "#img1 = read_image('im0.png')[::3,::3]\n",
    "#img2 = read_image('im1.png')[::3,::3]\n",
    "#gt_depth = read_pfm('disp0.pfm')[::3,::3]\n",
    "device = torch.device('cuda')#torch.device('cuda')#torch.device('cuda') if torch.cuda.is_available() else torch.device('cpu')"
   ]
  },
  {
   "cell_type": "code",
   "execution_count": 5,
   "metadata": {},
   "outputs": [],
   "source": [
    "q = 0\n",
    "# Get random projection of VGG16 features\n",
    "VGG = Vgg16features()\n",
    "VGG.to(device)\n",
    "VGG.eval()\n",
    "features = VGG.get_features(img1,k=q+1)\n",
    "torch_features = torch.from_numpy(features[q]).to(device).detach()"
   ]
  },
  {
   "cell_type": "code",
   "execution_count": 6,
   "metadata": {},
   "outputs": [
    {
     "data": {
      "text/plain": [
       "(288, 384, 3)"
      ]
     },
     "execution_count": 6,
     "metadata": {},
     "output_type": "execute_result"
    }
   ],
   "source": [
    "img1.shape"
   ]
  },
  {
   "cell_type": "code",
   "execution_count": 7,
   "metadata": {},
   "outputs": [
    {
     "data": {
      "text/plain": [
       "(5, 1, 2, 3, 4)"
      ]
     },
     "execution_count": 7,
     "metadata": {},
     "output_type": "execute_result"
    }
   ],
   "source": [
    "np.tile(np.mgrid[:3,:4],(5,1,1,1,1)).shape"
   ]
  },
  {
   "cell_type": "code",
   "execution_count": 8,
   "metadata": {},
   "outputs": [],
   "source": [
    "d=5\n",
    "class ReferenceMatrix(nn.Module):\n",
    "    def __init__(self):\n",
    "        super().__init__()\n",
    "        self.projection = nn.Linear(64,d)\n",
    "        self.sigma_c = nn.Parameter(torch.tensor(.1).float())\n",
    "        self.sigma_p = nn.Parameter(torch.tensor(.1).float())\n",
    "    def forward(self,img,nn_features):\n",
    "        projected_features = self.projection(nn_features)\n",
    "        scaled_rgb = torch.from_numpy(img).float()/self.sigma_c\n",
    "        h,w,_ = img.shape\n",
    "        ij = torch.from_numpy(np.mgrid[:h,:w].transpose((1,2,0))/np.sqrt(h**2+w**2)).float()\n",
    "        scaled_ij = ij/self.sigma_p\n",
    "        #print(ij.shape,scaled_rgb.shape, projected_features.shape)\n",
    "        return torch.cat([scaled_ij,scaled_rgb,projected_features],dim=-1).reshape(h*w,5+d)#\n",
    "    \n",
    "class denseCRF(nn.Module):\n",
    "    def __init__(self,n_iters=5,num_classes=48):\n",
    "        super().__init__()\n",
    "        self.device = torch.device('cpu')\n",
    "        self.n_iters = n_iters\n",
    "        self.reference = ReferenceMatrix()\n",
    "        self.labels = torch.arange(num_classes).float().to(self.device)\n",
    "        self.Mu = compatibility_matrix(partial(charbonneir,gamma=3),self.labels)\n",
    "        self.w1 = nn.Parameter(torch.tensor(1).float())\n",
    "        self.E_weight = nn.Parameter(torch.tensor(1).float())\n",
    "        \n",
    "        \n",
    "    def forward(self,E,img,nn_features):\n",
    "        ref = self.reference(img,nn_features)\n",
    "        W = LatticeGaussian(ref)\n",
    "        Q_out = mean_field_infer(E_0*self.E_weight,W,self.Mu*self.w1,self.n_iters)\n",
    "        expected_depths = Q_out@self.labels\n",
    "        return expected_depths\n",
    "    \n",
    "class denseCRF2(nn.Module):\n",
    "    def __init__(self,n_iters=5,num_classes=48):\n",
    "        super().__init__()\n",
    "        self.device = torch.device('cuda')\n",
    "        self.CRFlayer = CRFasRNN(num_classes,n_iters)\n",
    "        self.CRFguide = nn.Sequential()\n",
    "        self.labels = torch.arange(num_classes).float().to(self.device)\n",
    "    def forward(self,E0,x):\n",
    "        guide = self.CRFguide(x)\n",
    "        filtered = self.CRFlayer(E0.to(self.device)[None,...],guide.to(self.device)[None,...])\n",
    "        return (filtered.squeeze().permute(1,2,0).reshape(-1,len(self.labels))@self.labels).cpu()"
   ]
  },
  {
   "cell_type": "code",
   "execution_count": 9,
   "metadata": {},
   "outputs": [],
   "source": [
    "## Hyper parameters\n",
    "ws = 9      # Disparity aggregation window size\n",
    "gamma = 3    # Charbonneir turning point\n",
    "sigma_c = .1#.15#.1#.1 # Filter stdev for color channels\n",
    "sigma_p = .1#.08#.1 # Filter stdev for position channels\n",
    "sigma_f = 3#3#10#3.46#10 # Filter stdev for feature channels\n",
    "n_iters = 10 # Number of mean field message passing iterations\n",
    "down_factor = 1"
   ]
  },
  {
   "cell_type": "code",
   "execution_count": 10,
   "metadata": {},
   "outputs": [],
   "source": [
    "# Get the unary potentials from window sweep\n",
    "disp_energy = disparity_badness(img1,img2,ws,criterion=AD)\n",
    "disps = np.argmin(disp_energy,axis=-1)\n",
    "L = disp_energy.shape[-1] # Number of possible disparities\n",
    "downsampled_out = disp_energy[::down_factor,::down_factor]\n",
    "h,w,_ = downsampled_out.shape\n",
    "n = h*w\n",
    "\n",
    "E_0 = torch.from_numpy(downsampled_out.reshape(-1,L)).float().to(device)\n",
    "P_0 = F.softmax(-E_0,dim=1)"
   ]
  },
  {
   "cell_type": "code",
   "execution_count": 11,
   "metadata": {},
   "outputs": [],
   "source": [
    "# with torch.no_grad():\n",
    "#     mf = mean_field_infer(E_0,W,Mu,n_iters)\n",
    "#     expected_depths = mf@labels.to(device)#.max(dim=-1)[1]#@labels.to(device)\n",
    "#     crf_depth = expected_depths.reshape(h,w).cpu().numpy()\n",
    "labels = torch.arange(L).float()\n",
    "baseline_depth = (P_0@labels.to(device)).reshape(h,w).cpu().numpy()\n",
    "D = denseCRF2(n_iters=1).to(device)"
   ]
  },
  {
   "cell_type": "code",
   "execution_count": 12,
   "metadata": {},
   "outputs": [],
   "source": [
    "# gt = torch.from_numpy(gt_depth.reshape(-1)).float()\n",
    "# def testrun():\n",
    "#     crf_depth = D(E_0,img1,torch_features);\n",
    "#     diff = (4*crf_depth - gt/4)[gt!=0];\n",
    "#     loss = (diff**2).mean(); loss.backward()\n",
    "# #%lprun -f LatticeFilter.backward testrun()\n",
    "# %timeit -n 1 -r 2 testrun()"
   ]
  },
  {
   "cell_type": "code",
   "execution_count": 13,
   "metadata": {},
   "outputs": [],
   "source": [
    "#%timeit D(torch.cat([E_0]*100,dim=-1),img1,torch_features)"
   ]
  },
  {
   "cell_type": "code",
   "execution_count": 14,
   "metadata": {},
   "outputs": [
    {
     "data": {
      "text/plain": [
       "(288, 384, 3)"
      ]
     },
     "execution_count": 14,
     "metadata": {},
     "output_type": "execute_result"
    }
   ],
   "source": [
    "img1.shape"
   ]
  },
  {
   "cell_type": "code",
   "execution_count": 15,
   "metadata": {},
   "outputs": [
    {
     "name": "stdout",
     "output_type": "stream",
     "text": [
      "28.842897415161133\n",
      "21.623485565185547\n",
      "22.110746383666992\n",
      "20.9019775390625\n",
      "19.80708122253418\n",
      "18.509183883666992\n",
      "17.25095558166504\n",
      "15.855298042297363\n",
      "14.451882362365723\n",
      "13.616849899291992\n",
      "13.31476879119873\n",
      "13.160293579101562\n",
      "13.053926467895508\n",
      "12.629657745361328\n",
      "12.66557788848877\n",
      "12.387812614440918\n",
      "12.193964004516602\n",
      "12.115167617797852\n",
      "12.10002326965332\n",
      "11.910311698913574\n",
      "11.900420188903809\n",
      "11.856107711791992\n",
      "11.669574737548828\n",
      "11.488593101501465\n",
      "11.35898208618164\n",
      "11.21335220336914\n",
      "11.165762901306152\n",
      "10.972090721130371\n",
      "11.045358657836914\n",
      "10.895699501037598\n",
      "10.796968460083008\n",
      "10.664284706115723\n",
      "10.759434700012207\n",
      "10.307352066040039\n",
      "25.92604637145996\n",
      "11.552019119262695\n",
      "11.788111686706543\n",
      "11.626043319702148\n",
      "11.525568008422852\n",
      "11.43487548828125\n",
      "11.362687110900879\n",
      "11.285439491271973\n",
      "11.099084854125977\n",
      "11.121023178100586\n",
      "10.959490776062012\n",
      "10.800334930419922\n",
      "10.77647590637207\n",
      "10.735868453979492\n",
      "10.627150535583496\n",
      "10.570647239685059\n"
     ]
    }
   ],
   "source": [
    "E0 = E_0.t().reshape(L,h,w).float()\n",
    "crf_depth0 = D(E0,torch.from_numpy(img1).permute(2,0,1).float()).data.numpy()\n",
    "gt = torch.from_numpy(gt_depth.reshape(-1)).float()\n",
    "# Training loop\n",
    "optimizer = torch.optim.Adam(D.parameters(),lr=3e-2,betas=(.9,.9))\n",
    "num_steps=500\n",
    "def train_step(i):\n",
    "    optimizer.zero_grad()\n",
    "    crf_depth = D(E0,torch.from_numpy(img1).permute(2,0,1).float())\n",
    "    #print(crf_depth.shape)\n",
    "    #print(gt.shape)\n",
    "    diff = (4*crf_depth - gt/4)[gt!=0]\n",
    "    loss = (diff*diff).mean()\n",
    "    loss.backward()\n",
    "    optimizer.step()\n",
    "    if not i%10: print(loss.item())\n",
    "    #mem_report()\n",
    "for i in range(num_steps):\n",
    "#     with torch.no_grad():\n",
    "#         crf_depth = D(E_0,img1,torch_features)#train_step()\n",
    "    train_step(i)\n",
    "#%lprun -f train_step train_step()\n",
    "# with torch.autograd.profiler.profile() as prof:\n",
    "#     train_step()\n",
    "# print(prof)\n",
    "#print(list(D.parameters()))"
   ]
  },
  {
   "cell_type": "code",
   "execution_count": null,
   "metadata": {},
   "outputs": [],
   "source": []
  },
  {
   "cell_type": "code",
   "execution_count": 16,
   "metadata": {},
   "outputs": [
    {
     "data": {
      "text/plain": [
       "Text(0.5, 1.0, 'Ground Truth')"
      ]
     },
     "execution_count": 16,
     "metadata": {},
     "output_type": "execute_result"
    },
    {
     "data": {
      "image/png": "[encoded data removed]",
      "text/plain": [
       "<Figure size 1440x720 with 4 Axes>"
      ]
     },
     "metadata": {
      "needs_background": "light"
     },
     "output_type": "display_data"
    }
   ],
   "source": [
    "crf_depth = D(E0,torch.from_numpy(img1).permute(2,0,1).float())\n",
    "plt.rcParams.update({'font.size': 18})\n",
    "f, axarr = plt.subplots(1,4,figsize=(20,10))\n",
    "a0 = axarr[0].imshow(4*baseline_depth,cmap='bone',vmin=0,vmax=L)\n",
    "a1 = axarr[1].imshow(4*crf_depth0.reshape(baseline_depth.shape),cmap='bone',vmin=0,vmax=L)\n",
    "a2 = axarr[2].imshow(4*crf_depth.cpu().data.numpy().reshape(baseline_depth.shape),cmap='bone',vmin=0,vmax=L)\n",
    "a3 = axarr[3].imshow(gt_depth/4,cmap='bone',vmin=0,vmax=L)\n",
    "axarr[0].set_title(\"Unary\")\n",
    "axarr[1].set_title(\"DenseCRF\")\n",
    "axarr[2].set_title(\"Tuned {} steps\".format(num_steps))\n",
    "axarr[3].set_title(\"Ground Truth\")"
   ]
  },
  {
   "cell_type": "code",
   "execution_count": null,
   "metadata": {},
   "outputs": [],
   "source": [
    "gt_depth"
   ]
  },
  {
   "cell_type": "code",
   "execution_count": null,
   "metadata": {},
   "outputs": [],
   "source": [
    "plt.imshow(img1)\n",
    "plt.show()"
   ]
  },
  {
   "cell_type": "code",
   "execution_count": null,
   "metadata": {},
   "outputs": [],
   "source": [
    "featss = VGG.get_all_features(img1)"
   ]
  },
  {
   "cell_type": "code",
   "execution_count": null,
   "metadata": {},
   "outputs": [],
   "source": [
    "for i in range(4):\n",
    "    print(featss[i].shape)"
   ]
  },
  {
   "cell_type": "code",
   "execution_count": null,
   "metadata": {},
   "outputs": [],
   "source": [
    "for d in range(4):\n",
    "    ff  =featss[d]\n",
    "    for i in range(ff.shape[-1]):\n",
    "        plt.imshow(ff[:,:,i])\n",
    "        plt.show()"
   ]
  },
  {
   "cell_type": "code",
   "execution_count": null,
   "metadata": {},
   "outputs": [],
   "source": [
    "list(D.reference.parameters())"
   ]
  },
  {
   "cell_type": "code",
   "execution_count": null,
   "metadata": {},
   "outputs": [],
   "source": [
    "D.reference.sigma_c"
   ]
  },
  {
   "cell_type": "code",
   "execution_count": null,
   "metadata": {},
   "outputs": [],
   "source": []
  }
 ],
 "metadata": {
  "kernelspec": {
   "display_name": "Python 3",
   "language": "python",
   "name": "python3"
  },
  "language_info": {
   "codemirror_mode": {
    "name": "ipython",
    "version": 3
   },
   "file_extension": ".py",
   "mimetype": "text/x-python",
   "name": "python",
   "nbconvert_exporter": "python",
   "pygments_lexer": "ipython3",
   "version": "3.6.7"
  }
 },
 "nbformat": 4,
 "nbformat_minor": 2
}
