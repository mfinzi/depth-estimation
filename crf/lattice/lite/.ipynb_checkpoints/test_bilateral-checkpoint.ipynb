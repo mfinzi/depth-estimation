{
 "cells": [
  {
   "cell_type": "code",
   "execution_count": null,
   "metadata": {},
   "outputs": [],
   "source": [
    "import torch\n",
    "#import lattice\n",
    "from torch.utils.cpp_extension import load\n",
    "lattice = load(name=\"lattice\",sources=[\"lattice.cpp\"])\n",
    "import glob"
   ]
  },
  {
   "cell_type": "code",
   "execution_count": null,
   "metadata": {},
   "outputs": [],
   "source": [
    "from crf.gaussian_matrix import LatticeGaussian#, LSHGaussian\n",
    "from crf.crf import *\n",
    "from crf.depth import *"
   ]
  },
  {
   "cell_type": "code",
   "execution_count": null,
   "metadata": {},
   "outputs": [],
   "source": [
    "import numpy as np\n",
    "from PIL import Image\n",
    "import matplotlib.pyplot as plt"
   ]
  },
  {
   "cell_type": "code",
   "execution_count": null,
   "metadata": {},
   "outputs": [],
   "source": [
    "def read_img(filename):\n",
    "    img = Image.open(filename).convert('RGB')\n",
    "    img = np.array(img).astype(float)/255\n",
    "    return img"
   ]
  },
  {
   "cell_type": "code",
   "execution_count": null,
   "metadata": {},
   "outputs": [],
   "source": [
    "paths = glob.glob('./images/*.bmp')\n",
    "print(paths)"
   ]
  },
  {
   "cell_type": "code",
   "execution_count": null,
   "metadata": {},
   "outputs": [],
   "source": [
    "img = read_img('./images/input.bmp')[::,::]\n",
    "filtered_img = read_img('./images/bilateral_out_1.bmp')[::,::]\n",
    "sigma_p = .01\n",
    "sigma_c = .125"
   ]
  },
  {
   "cell_type": "code",
   "execution_count": null,
   "metadata": {},
   "outputs": [],
   "source": [
    "h,w,c = img.shape\n",
    "position = np.mgrid[:h,:w].transpose((1,2,0))/np.sqrt(h**2+w**2)\n",
    "reference = np.zeros((h,w,5))\n",
    "reference[...,:3] = img/sigma_c\n",
    "reference[...,3:] = position/sigma_p\n",
    "#reference = position/sigma_p\n",
    "homo_src = np.ones((h,w,3+1))\n",
    "homo_src[...,:c] = img"
   ]
  },
  {
   "cell_type": "code",
   "execution_count": null,
   "metadata": {},
   "outputs": [],
   "source": [
    "ref_arr = torch.from_numpy(reference.reshape((h*w,-1)).astype(np.float32))\n",
    "W = LatticeGaussian(ref_arr)\n",
    "#W2 = gaussian_weights_u(ref_arr)#\n",
    "src_arr = torch.from_numpy(homo_src.reshape((h*w,-1)).astype(np.float32))"
   ]
  },
  {
   "cell_type": "code",
   "execution_count": null,
   "metadata": {},
   "outputs": [],
   "source": [
    "out = (W@src_arr+src_arr)#/(1+2**(-3))\n",
    "a = out[:,:3]#/(out[:,-1][:,None])"
   ]
  },
  {
   "cell_type": "code",
   "execution_count": null,
   "metadata": {},
   "outputs": [],
   "source": [
    "out2 = W2@src_arr+src_arr\n",
    "b = out2[:,:3]#/(out2[:,-1][:,None])"
   ]
  },
  {
   "cell_type": "code",
   "execution_count": null,
   "metadata": {},
   "outputs": [],
   "source": [
    "plt.hist(src_arr[:,:3].contiguous().view(-1).numpy(),alpha=.5)\n",
    "plt.hist(a.contiguous().view(-1).numpy(),alpha=.5)\n",
    "#plt.hist(b.contiguous().view(-1).numpy(),alpha=.5)\n",
    "plt.legend([\"input\",\"lattice\",\"brute_force\"])"
   ]
  },
  {
   "cell_type": "code",
   "execution_count": null,
   "metadata": {},
   "outputs": [],
   "source": [
    "#b = lattice.filter(src_arr,ref_arr)\n",
    "#a = b[:,:3]#/(b[:,-1][:,None])"
   ]
  },
  {
   "cell_type": "code",
   "execution_count": null,
   "metadata": {},
   "outputs": [],
   "source": [
    "f,axes = plt.subplots(1,3,figsize=(16, 12), dpi=80, facecolor='w', edgecolor='k')\n",
    "axes[0].imshow(img)\n",
    "#axes[1].imshow(b[:,:3].numpy().reshape((h,w,c)))\n",
    "axes[2].imshow(a[:,:3].numpy().reshape((h,w,c)))\n",
    "#axes[2].imshow(filtered_img)\n",
    "plt.show()"
   ]
  },
  {
   "cell_type": "code",
   "execution_count": null,
   "metadata": {},
   "outputs": [],
   "source": [
    "%timeit lattice.filter(src_arr,ref_arr)"
   ]
  },
  {
   "cell_type": "code",
   "execution_count": null,
   "metadata": {},
   "outputs": [],
   "source": []
  },
  {
   "cell_type": "code",
   "execution_count": 1,
   "metadata": {},
   "outputs": [
    {
     "name": "stdout",
     "output_type": "stream",
     "text": [
      "/home/marc/crfrnn_layer\n",
      "using gpu\n"
     ]
    },
    {
     "name": "stderr",
     "output_type": "stream",
     "text": [
      "/home/marc/anaconda3/lib/python3.6/site-packages/theano/gpuarray/dnn.py:184: UserWarning: Your cuDNN version is more recent than Theano. If you encounter problems, try updating Theano or downgrading cuDNN to a version >= v5 and <= v7.\n",
      "  warnings.warn(\"Your cuDNN version is more recent than \"\n"
     ]
    }
   ],
   "source": [
    "%cd ~/crfrnn_layer/\n",
    "import sys,os\n",
    "import numpy as np\n",
    "from scipy.misc import imread, imsave\n",
    "import theano\n",
    "import theano.tensor as tt\n",
    "sys.path.append(os.path.expanduser('~/crfrnn_layer/'))\n",
    "from crfrnn.gfilt import gaussian_filter"
   ]
  },
  {
   "cell_type": "code",
   "execution_count": 2,
   "metadata": {},
   "outputs": [
    {
     "name": "stderr",
     "output_type": "stream",
     "text": [
      "/home/marc/anaconda3/lib/python3.6/site-packages/ipykernel_launcher.py:1: DeprecationWarning: `imread` is deprecated!\n",
      "`imread` is deprecated in SciPy 1.0.0, and will be removed in 1.2.0.\n",
      "Use ``imageio.imread`` instead.\n",
      "  \"\"\"Entry point for launching an IPython kernel.\n"
     ]
    },
    {
     "name": "stdout",
     "output_type": "stream",
     "text": [
      "cpu gf?\n",
      "cpu gf?\n"
     ]
    }
   ],
   "source": [
    "img = imread('input.bmp').astype(np.float32)[..., :3] / 255.\n",
    "img = img.transpose(2,0,1)\n",
    "yx = np.mgrid[:img.shape[1], :img.shape[2]].astype(np.float32)\n",
    "stacked = np.vstack([yx, img])\n",
    "\n",
    "kstd = np.array([5, 5, .125, .125, .125], np.float32)\n",
    "\n",
    "R = tt.tensor3(\"R\")\n",
    "I = tt.tensor3(\"I\")\n",
    "\n",
    "N = gaussian_filter(R, tt.ones_like(I[:1, :, :]), kstd, 5, 1)\n",
    "F = gaussian_filter(R, I, kstd, 5, 3) / N\n",
    "bilateral = theano.function([R,I], F)"
   ]
  },
  {
   "cell_type": "code",
   "execution_count": 3,
   "metadata": {},
   "outputs": [],
   "source": [
    "out = np.asarray(bilateral(stacked, img))"
   ]
  },
  {
   "cell_type": "code",
   "execution_count": 4,
   "metadata": {},
   "outputs": [
    {
     "name": "stdout",
     "output_type": "stream",
     "text": [
      "1.38 s ± 33.9 ms per loop (mean ± std. dev. of 7 runs, 1 loop each)\n"
     ]
    }
   ],
   "source": [
    "%timeit out = np.asarray(bilateral(stacked, img))"
   ]
  },
  {
   "cell_type": "code",
   "execution_count": null,
   "metadata": {},
   "outputs": [],
   "source": [
    "plt.imshow(out.transpose(1,2,0))"
   ]
  },
  {
   "cell_type": "code",
   "execution_count": null,
   "metadata": {},
   "outputs": [],
   "source": [
    "np.asarray(bilateral(reference.astype(np.float32), img.astype(np.float32)))"
   ]
  },
  {
   "cell_type": "code",
   "execution_count": null,
   "metadata": {},
   "outputs": [],
   "source": []
  },
  {
   "cell_type": "code",
   "execution_count": null,
   "metadata": {},
   "outputs": [],
   "source": [
    "%run bilateral.py input.bmp output_.bmp 5 .125"
   ]
  },
  {
   "cell_type": "code",
   "execution_count": null,
   "metadata": {},
   "outputs": [],
   "source": [
    "import pygpu"
   ]
  },
  {
   "cell_type": "code",
   "execution_count": null,
   "metadata": {},
   "outputs": [],
   "source": [
    "pygpu.test()"
   ]
  },
  {
   "cell_type": "code",
   "execution_count": null,
   "metadata": {},
   "outputs": [],
   "source": []
  }
 ],
 "metadata": {
  "kernelspec": {
   "display_name": "Python 3",
   "language": "python",
   "name": "python3"
  },
  "language_info": {
   "codemirror_mode": {
    "name": "ipython",
    "version": 3
   },
   "file_extension": ".py",
   "mimetype": "text/x-python",
   "name": "python",
   "nbconvert_exporter": "python",
   "pygments_lexer": "ipython3",
   "version": "3.6.7"
  }
 },
 "nbformat": 4,
 "nbformat_minor": 2
}
